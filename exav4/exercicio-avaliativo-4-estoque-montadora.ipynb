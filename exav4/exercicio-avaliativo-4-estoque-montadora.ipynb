{
 "cells": [
  {
   "cell_type": "markdown",
   "metadata": {},
   "source": [
    "# Exercício Avaliativo 4 - Banco de dados orientado à colunas e Cassandra\n",
    "Estoque da Montadora \n",
    "\n",
    "Um fabricante de automóveis contratou você para desenvolver um sistema de banco de dados distribuído usando o Cassandra para as linhas de montagem de toda a corporação, onde cada máquina pudesse acessar a base de dados e buscar as peças de maneira correta para ser montada nos respectivos modelos de veículos. Para isso, você deverá criar a tabela estoque no sistema DataStax ASTRA e inserir as colunas usando o arquivo auxiliar disponibilizado junto com essa atividade. \n"
   ]
  },
  {
   "cell_type": "markdown",
   "metadata": {},
   "source": [
    "# Diego Anestor Coutinho\n",
    "## 1692"
   ]
  },
  {
   "cell_type": "markdown",
   "metadata": {},
   "source": [
    "**Banco de dados executando em ambiente local,**  \n",
    "**favor conferir as instruções no arquivo README.md**"
   ]
  },
  {
   "cell_type": "code",
   "execution_count": 1,
   "metadata": {},
   "outputs": [],
   "source": [
    "import json\n",
    "\n",
    "from cassandra.cluster import Cluster\n",
    "from cassandra.query import dict_factory\n",
    "from cassandra.auth import PlainTextAuthProvider\n",
    "\n",
    "auth_provider = PlainTextAuthProvider(username='admin', password='admin')\n",
    "cluster = Cluster(contact_points=['127.0.0.1'], auth_provider=auth_provider)\n",
    "\n",
    "session = cluster.connect()\n",
    "session.row_factory = dict_factory"
   ]
  },
  {
   "cell_type": "code",
   "execution_count": 2,
   "metadata": {},
   "outputs": [],
   "source": [
    "# linha abaixo referenciado da internet para criação de keyspace\n",
    "session.execute('CREATE KEYSPACE IF NOT EXISTS montadora WITH REPLICATION = {\\'class\\': \\'SimpleStrategy\\', \\'replication_factor\\': 1}')\n",
    "session.set_keyspace('montadora')"
   ]
  },
  {
   "cell_type": "markdown",
   "metadata": {},
   "source": [
    "## Questão 1: Siga os itens listados abaixo: \n",
    "\n",
    "Faça a inserção de uma nova peça com os dados abaixo: \n",
    "\n",
    "id: 5  \n",
    "nome: Pistao  \n",
    "carro: Mustang  \n",
    "estante: 4  \n",
    "nível: 1  \n",
    "quantidade: 167  \n",
    "\n",
    "Faça a inserção de uma nova peça com os dados abaixo: \n",
    "\n",
    "id: 4  \n",
    "nome: Suspencao   \n",
    "carro: Argo   \n",
    "estante: 1   \n",
    "nível: 1   \n",
    "quantidade: 3500   "
   ]
  },
  {
   "cell_type": "code",
   "execution_count": 3,
   "metadata": {},
   "outputs": [],
   "source": [
    "# criação da tabela\n",
    "session.execute('''\n",
    "    CREATE TABLE IF NOT EXISTS parts (\n",
    "        id int PRIMARY KEY,\n",
    "        nome text,\n",
    "        carro text,\n",
    "        estante int,\n",
    "        nivel int,\n",
    "        quantidade int\n",
    "    )\n",
    "''')\n",
    "\n",
    "def inserir(session, part):\n",
    "    query = '''\n",
    "    INSERT INTO parts (id, nome, carro, estante, nivel, quantidade)\n",
    "    VALUES (%(id)s, %(nome)s, %(carro)s, %(estante)s, %(nivel)s, %(quantidade)s)\n",
    "    '''\n",
    "    session.execute(query, part)"
   ]
  },
  {
   "cell_type": "code",
   "execution_count": 4,
   "metadata": {},
   "outputs": [],
   "source": [
    "class Part:\n",
    "    def __init__(self, id, nome, carro, estante, nivel, quantidade):\n",
    "        self.id = id\n",
    "        self.nome = nome\n",
    "        self.carro = carro\n",
    "        self.estante = estante\n",
    "        self.nivel = nivel\n",
    "        self.quantidade = quantidade\n",
    "\n",
    "    def dict(self):\n",
    "        return {\n",
    "            'id': self.id,\n",
    "            'nome': self.nome,\n",
    "            'carro': self.carro,\n",
    "            'estante': self.estante,\n",
    "            'nivel': self.nivel,\n",
    "            'quantidade': self.quantidade\n",
    "        }"
   ]
  },
  {
   "cell_type": "code",
   "execution_count": 5,
   "metadata": {},
   "outputs": [],
   "source": [
    "part1 = Part(5, 'Pistao', 'Mustang', 4, 1, 167)\n",
    "part2 = Part(4, 'Suspencao', 'Argo', 1, 1, 3500)\n",
    "\n",
    "# inserção dos dados\n",
    "inserir(session, part1.dict())\n",
    "inserir(session, part2.dict())"
   ]
  },
  {
   "cell_type": "markdown",
   "metadata": {},
   "source": [
    "## Questão 2: Escreva o comando CQL utilizado para cada item abaixo: \n",
    "\n",
    "- Faça uma busca no banco de dados que retorno todos os dados do item com nome 'Pistão';\n",
    "- Faça uma busca no banco que calcule a média aritmética da quantidade de todas as colunas armazenadas na tabela;\n",
    "- Faça uma busca que retorne quantas colunas tem armazenadas na tabela;\n",
    "- Busque a maior e a menor quantidade de peças usando as alias \"maior quantidade\" e \"menor quantidade\" para a tabela estoque;\n",
    "- Faça uma busca que retorne os atributos nome, carro e quantidade, onde a estante seja igual a 3;\n",
    "- Faça uma busca que retorne a média aritmética da quantidade onde o nível seja igual a 1; \n",
    "- Faça uma busca retornando todos os atributos onde a estante seja menor do que 3 e o nível seja maior do que 4;\n",
    " "
   ]
  },
  {
   "cell_type": "code",
   "execution_count": 6,
   "metadata": {},
   "outputs": [
    {
     "data": {
      "text/plain": [
       "[{'id': 5,\n",
       "  'carro': 'Mustang',\n",
       "  'estante': 4,\n",
       "  'nivel': 1,\n",
       "  'nome': 'Pistao',\n",
       "  'quantidade': 167}]"
      ]
     },
     "execution_count": 6,
     "metadata": {},
     "output_type": "execute_result"
    }
   ],
   "source": [
    "# Faça uma busca no banco de dados que retorno todos os dados do item com nome 'Pistão'\n",
    "rows = session.execute(\"SELECT * FROM parts WHERE nome = 'Pistao' ALLOW FILTERING\")\n",
    "list(rows)"
   ]
  },
  {
   "cell_type": "code",
   "execution_count": 7,
   "metadata": {},
   "outputs": [
    {
     "data": {
      "text/plain": [
       "[{'system.avg(quantidade)': 1833}]"
      ]
     },
     "execution_count": 7,
     "metadata": {},
     "output_type": "execute_result"
    }
   ],
   "source": [
    "# Faça uma busca no banco que calcule a média aritmética da quantidade de todas as colunas armazenadas na tabela\n",
    "rows = session.execute(\"SELECT AVG(quantidade) FROM parts\")\n",
    "list(rows)"
   ]
  },
  {
   "cell_type": "code",
   "execution_count": 8,
   "metadata": {},
   "outputs": [
    {
     "data": {
      "text/plain": [
       "[{'count': 2}]"
      ]
     },
     "execution_count": 8,
     "metadata": {},
     "output_type": "execute_result"
    }
   ],
   "source": [
    "# Faça uma busca que retorne quantas colunas tem armazenadas na tabela\n",
    "rows = session.execute(\"SELECT COUNT(*) FROM parts\")\n",
    "list(rows)"
   ]
  },
  {
   "cell_type": "code",
   "execution_count": 9,
   "metadata": {},
   "outputs": [
    {
     "data": {
      "text/plain": [
       "[{'maior_quantidade': 3500, 'menor_quantidade': 167}]"
      ]
     },
     "execution_count": 9,
     "metadata": {},
     "output_type": "execute_result"
    }
   ],
   "source": [
    "# Busque a maior e a menor quantidade de peças usando as alias \"maior quantidade\" e \"menor quantidade\" para a tabela estoque\n",
    "rows = session.execute(\"SELECT MAX(quantidade) AS maior_quantidade, MIN(quantidade) AS menor_quantidade FROM parts\")\n",
    "list(rows)"
   ]
  },
  {
   "cell_type": "code",
   "execution_count": 10,
   "metadata": {},
   "outputs": [
    {
     "data": {
      "text/plain": [
       "[]"
      ]
     },
     "execution_count": 10,
     "metadata": {},
     "output_type": "execute_result"
    }
   ],
   "source": [
    "# Faça uma busca que retorne os atributos nome, carro e quantidade, onde a estante seja igual a 3\n",
    "rows = session.execute(\"SELECT nome, carro, quantidade FROM parts WHERE estante = 3 ALLOW FILTERING\")\n",
    "list(rows)"
   ]
  },
  {
   "cell_type": "code",
   "execution_count": 11,
   "metadata": {},
   "outputs": [
    {
     "data": {
      "text/plain": [
       "[{'system.avg(quantidade)': 1833}]"
      ]
     },
     "execution_count": 11,
     "metadata": {},
     "output_type": "execute_result"
    }
   ],
   "source": [
    "# Faça uma busca que retorne a média aritmética da quantidade onde o nível seja igual a 1\n",
    "rows = session.execute(\"SELECT AVG(quantidade) FROM parts WHERE nivel = 1 ALLOW FILTERING\")\n",
    "list(rows)"
   ]
  },
  {
   "cell_type": "code",
   "execution_count": 12,
   "metadata": {},
   "outputs": [
    {
     "data": {
      "text/plain": [
       "[]"
      ]
     },
     "execution_count": 12,
     "metadata": {},
     "output_type": "execute_result"
    }
   ],
   "source": [
    "# Faça uma busca retornando todos os atributos onde a estante seja menor do que 3 e o nível seja maior do que 4\n",
    "rows = session.execute(\"SELECT * FROM parts WHERE estante < 3 AND nivel > 4 ALLOW FILTERING\")\n",
    "list(rows)"
   ]
  },
  {
   "cell_type": "markdown",
   "metadata": {},
   "source": [
    "## Questão 3: Elabore um script Python que seja capaz de fazer uma consulta mostrando: \n",
    "nome, estante e quantidade do carro fornecido pelo usuário. "
   ]
  },
  {
   "cell_type": "code",
   "execution_count": 13,
   "metadata": {},
   "outputs": [
    {
     "data": {
      "text/plain": [
       "[{'nome': 'Pistao', 'estante': 4, 'quantidade': 167}]"
      ]
     },
     "execution_count": 13,
     "metadata": {},
     "output_type": "execute_result"
    }
   ],
   "source": [
    "carro = input('Digite o tipo do carro: ') # input: Mustang\n",
    "rows = session.execute(f\"SELECT nome, estante, quantidade FROM parts WHERE carro = '{carro}' ALLOW FILTERING\")\n",
    "list(rows)"
   ]
  }
 ],
 "metadata": {
  "kernelspec": {
   "display_name": "Python 3",
   "language": "python",
   "name": "python3"
  },
  "language_info": {
   "codemirror_mode": {
    "name": "ipython",
    "version": 3
   },
   "file_extension": ".py",
   "mimetype": "text/x-python",
   "name": "python",
   "nbconvert_exporter": "python",
   "pygments_lexer": "ipython3",
   "version": "3.10.11"
  }
 },
 "nbformat": 4,
 "nbformat_minor": 2
}
